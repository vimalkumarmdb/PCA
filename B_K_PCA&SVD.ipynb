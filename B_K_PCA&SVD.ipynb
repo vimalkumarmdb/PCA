{
 "cells": [
  {
   "cell_type": "code",
   "execution_count": 1,
   "metadata": {},
   "outputs": [],
   "source": [
    "import numpy as np"
   ]
  },
  {
   "cell_type": "code",
   "execution_count": 2,
   "metadata": {},
   "outputs": [],
   "source": [
    "import matplotlib.pyplot as plt"
   ]
  },
  {
   "cell_type": "code",
   "execution_count": 3,
   "metadata": {},
   "outputs": [],
   "source": [
    "import pandas as pd\n",
    "import scipy as py"
   ]
  },
  {
   "cell_type": "code",
   "execution_count": 4,
   "metadata": {},
   "outputs": [],
   "source": [
    "dataset = pd.read_csv('glass.csv')"
   ]
  },
  {
   "cell_type": "markdown",
   "metadata": {},
   "source": [
    "# Preprocessing the dataset"
   ]
  },
  {
   "cell_type": "code",
   "execution_count": 5,
   "metadata": {},
   "outputs": [
    {
     "data": {
      "text/plain": [
       "RI       1.518365\n",
       "Na      13.407850\n",
       "Mg       2.684533\n",
       "Al       1.444907\n",
       "Si      72.650935\n",
       "K        0.497056\n",
       "Ca       8.956963\n",
       "Ba       0.175047\n",
       "Fe       0.057009\n",
       "Type     2.780374\n",
       "dtype: float64"
      ]
     },
     "execution_count": 5,
     "metadata": {},
     "output_type": "execute_result"
    }
   ],
   "source": [
    "mean = dataset.mean(axis = 0)\n",
    "mean"
   ]
  },
  {
   "cell_type": "code",
   "execution_count": 6,
   "metadata": {},
   "outputs": [
    {
     "data": {
      "text/plain": [
       "RI      0.003037\n",
       "Na      0.816604\n",
       "Mg      1.442408\n",
       "Al      0.499270\n",
       "Si      0.774546\n",
       "K       0.652192\n",
       "Ca      1.423153\n",
       "Ba      0.497219\n",
       "Fe      0.097439\n",
       "Type    2.103739\n",
       "dtype: float64"
      ]
     },
     "execution_count": 6,
     "metadata": {},
     "output_type": "execute_result"
    }
   ],
   "source": [
    "standerd_deviation = dataset.std(axis= 0)\n",
    "standerd_deviation"
   ]
  },
  {
   "cell_type": "code",
   "execution_count": 7,
   "metadata": {},
   "outputs": [
    {
     "data": {
      "text/plain": [
       "(214, 10)"
      ]
     },
     "execution_count": 7,
     "metadata": {},
     "output_type": "execute_result"
    }
   ],
   "source": [
    "dataset.shape"
   ]
  },
  {
   "cell_type": "code",
   "execution_count": 8,
   "metadata": {},
   "outputs": [],
   "source": [
    "def nomalization(dataset):\n",
    "    for i in range(0,10):\n",
    "        for j in range(0,214):\n",
    "            dataset.iloc[j][i]= (dataset.iloc[j][i]-mean.iloc[i])/standerd_deviation.iloc[i]\n",
    "    return dataset"
   ]
  },
  {
   "cell_type": "code",
   "execution_count": 9,
   "metadata": {},
   "outputs": [
    {
     "name": "stderr",
     "output_type": "stream",
     "text": [
      "C:\\Anaconda3\\lib\\site-packages\\ipykernel_launcher.py:4: SettingWithCopyWarning: \n",
      "A value is trying to be set on a copy of a slice from a DataFrame\n",
      "\n",
      "See the caveats in the documentation: http://pandas.pydata.org/pandas-docs/stable/indexing.html#indexing-view-versus-copy\n",
      "  after removing the cwd from sys.path.\n"
     ]
    },
    {
     "data": {
      "text/html": [
       "<div>\n",
       "<style scoped>\n",
       "    .dataframe tbody tr th:only-of-type {\n",
       "        vertical-align: middle;\n",
       "    }\n",
       "\n",
       "    .dataframe tbody tr th {\n",
       "        vertical-align: top;\n",
       "    }\n",
       "\n",
       "    .dataframe thead th {\n",
       "        text-align: right;\n",
       "    }\n",
       "</style>\n",
       "<table border=\"1\" class=\"dataframe\">\n",
       "  <thead>\n",
       "    <tr style=\"text-align: right;\">\n",
       "      <th></th>\n",
       "      <th>RI</th>\n",
       "      <th>Na</th>\n",
       "      <th>Mg</th>\n",
       "      <th>Al</th>\n",
       "      <th>Si</th>\n",
       "      <th>K</th>\n",
       "      <th>Ca</th>\n",
       "      <th>Ba</th>\n",
       "      <th>Fe</th>\n",
       "      <th>Type</th>\n",
       "    </tr>\n",
       "  </thead>\n",
       "  <tbody>\n",
       "    <tr>\n",
       "      <th>0</th>\n",
       "      <td>1.52101</td>\n",
       "      <td>13.64</td>\n",
       "      <td>4.49</td>\n",
       "      <td>1.10</td>\n",
       "      <td>71.78</td>\n",
       "      <td>0.06</td>\n",
       "      <td>8.75</td>\n",
       "      <td>0.0</td>\n",
       "      <td>0.0</td>\n",
       "      <td>1</td>\n",
       "    </tr>\n",
       "    <tr>\n",
       "      <th>1</th>\n",
       "      <td>1.51761</td>\n",
       "      <td>13.89</td>\n",
       "      <td>3.60</td>\n",
       "      <td>1.36</td>\n",
       "      <td>72.73</td>\n",
       "      <td>0.48</td>\n",
       "      <td>7.83</td>\n",
       "      <td>0.0</td>\n",
       "      <td>0.0</td>\n",
       "      <td>1</td>\n",
       "    </tr>\n",
       "    <tr>\n",
       "      <th>2</th>\n",
       "      <td>1.51618</td>\n",
       "      <td>13.53</td>\n",
       "      <td>3.55</td>\n",
       "      <td>1.54</td>\n",
       "      <td>72.99</td>\n",
       "      <td>0.39</td>\n",
       "      <td>7.78</td>\n",
       "      <td>0.0</td>\n",
       "      <td>0.0</td>\n",
       "      <td>1</td>\n",
       "    </tr>\n",
       "    <tr>\n",
       "      <th>3</th>\n",
       "      <td>1.51766</td>\n",
       "      <td>13.21</td>\n",
       "      <td>3.69</td>\n",
       "      <td>1.29</td>\n",
       "      <td>72.61</td>\n",
       "      <td>0.57</td>\n",
       "      <td>8.22</td>\n",
       "      <td>0.0</td>\n",
       "      <td>0.0</td>\n",
       "      <td>1</td>\n",
       "    </tr>\n",
       "    <tr>\n",
       "      <th>4</th>\n",
       "      <td>1.51742</td>\n",
       "      <td>13.27</td>\n",
       "      <td>3.62</td>\n",
       "      <td>1.24</td>\n",
       "      <td>73.08</td>\n",
       "      <td>0.55</td>\n",
       "      <td>8.07</td>\n",
       "      <td>0.0</td>\n",
       "      <td>0.0</td>\n",
       "      <td>1</td>\n",
       "    </tr>\n",
       "  </tbody>\n",
       "</table>\n",
       "</div>"
      ],
      "text/plain": [
       "        RI     Na    Mg    Al     Si     K    Ca   Ba   Fe  Type\n",
       "0  1.52101  13.64  4.49  1.10  71.78  0.06  8.75  0.0  0.0     1\n",
       "1  1.51761  13.89  3.60  1.36  72.73  0.48  7.83  0.0  0.0     1\n",
       "2  1.51618  13.53  3.55  1.54  72.99  0.39  7.78  0.0  0.0     1\n",
       "3  1.51766  13.21  3.69  1.29  72.61  0.57  8.22  0.0  0.0     1\n",
       "4  1.51742  13.27  3.62  1.24  73.08  0.55  8.07  0.0  0.0     1"
      ]
     },
     "execution_count": 9,
     "metadata": {},
     "output_type": "execute_result"
    }
   ],
   "source": [
    "data = nomalization(dataset)\n",
    "data.head()"
   ]
  },
  {
   "cell_type": "code",
   "execution_count": 10,
   "metadata": {},
   "outputs": [
    {
     "data": {
      "text/html": [
       "<div>\n",
       "<style scoped>\n",
       "    .dataframe tbody tr th:only-of-type {\n",
       "        vertical-align: middle;\n",
       "    }\n",
       "\n",
       "    .dataframe tbody tr th {\n",
       "        vertical-align: top;\n",
       "    }\n",
       "\n",
       "    .dataframe thead th {\n",
       "        text-align: right;\n",
       "    }\n",
       "</style>\n",
       "<table border=\"1\" class=\"dataframe\">\n",
       "  <thead>\n",
       "    <tr style=\"text-align: right;\">\n",
       "      <th></th>\n",
       "      <th>RI</th>\n",
       "      <th>Na</th>\n",
       "      <th>Mg</th>\n",
       "      <th>Al</th>\n",
       "      <th>Si</th>\n",
       "      <th>K</th>\n",
       "      <th>Ca</th>\n",
       "      <th>Ba</th>\n",
       "      <th>Fe</th>\n",
       "      <th>Type</th>\n",
       "    </tr>\n",
       "  </thead>\n",
       "  <tbody>\n",
       "    <tr>\n",
       "      <th>209</th>\n",
       "      <td>1.51623</td>\n",
       "      <td>14.14</td>\n",
       "      <td>0.0</td>\n",
       "      <td>2.88</td>\n",
       "      <td>72.61</td>\n",
       "      <td>0.08</td>\n",
       "      <td>9.18</td>\n",
       "      <td>1.06</td>\n",
       "      <td>0.0</td>\n",
       "      <td>7</td>\n",
       "    </tr>\n",
       "    <tr>\n",
       "      <th>210</th>\n",
       "      <td>1.51685</td>\n",
       "      <td>14.92</td>\n",
       "      <td>0.0</td>\n",
       "      <td>1.99</td>\n",
       "      <td>73.06</td>\n",
       "      <td>0.00</td>\n",
       "      <td>8.40</td>\n",
       "      <td>1.59</td>\n",
       "      <td>0.0</td>\n",
       "      <td>7</td>\n",
       "    </tr>\n",
       "    <tr>\n",
       "      <th>211</th>\n",
       "      <td>1.52065</td>\n",
       "      <td>14.36</td>\n",
       "      <td>0.0</td>\n",
       "      <td>2.02</td>\n",
       "      <td>73.42</td>\n",
       "      <td>0.00</td>\n",
       "      <td>8.44</td>\n",
       "      <td>1.64</td>\n",
       "      <td>0.0</td>\n",
       "      <td>7</td>\n",
       "    </tr>\n",
       "    <tr>\n",
       "      <th>212</th>\n",
       "      <td>1.51651</td>\n",
       "      <td>14.38</td>\n",
       "      <td>0.0</td>\n",
       "      <td>1.94</td>\n",
       "      <td>73.61</td>\n",
       "      <td>0.00</td>\n",
       "      <td>8.48</td>\n",
       "      <td>1.57</td>\n",
       "      <td>0.0</td>\n",
       "      <td>7</td>\n",
       "    </tr>\n",
       "    <tr>\n",
       "      <th>213</th>\n",
       "      <td>1.51711</td>\n",
       "      <td>14.23</td>\n",
       "      <td>0.0</td>\n",
       "      <td>2.08</td>\n",
       "      <td>73.36</td>\n",
       "      <td>0.00</td>\n",
       "      <td>8.62</td>\n",
       "      <td>1.67</td>\n",
       "      <td>0.0</td>\n",
       "      <td>7</td>\n",
       "    </tr>\n",
       "  </tbody>\n",
       "</table>\n",
       "</div>"
      ],
      "text/plain": [
       "          RI     Na   Mg    Al     Si     K    Ca    Ba   Fe  Type\n",
       "209  1.51623  14.14  0.0  2.88  72.61  0.08  9.18  1.06  0.0     7\n",
       "210  1.51685  14.92  0.0  1.99  73.06  0.00  8.40  1.59  0.0     7\n",
       "211  1.52065  14.36  0.0  2.02  73.42  0.00  8.44  1.64  0.0     7\n",
       "212  1.51651  14.38  0.0  1.94  73.61  0.00  8.48  1.57  0.0     7\n",
       "213  1.51711  14.23  0.0  2.08  73.36  0.00  8.62  1.67  0.0     7"
      ]
     },
     "execution_count": 10,
     "metadata": {},
     "output_type": "execute_result"
    }
   ],
   "source": [
    "data.tail()"
   ]
  },
  {
   "cell_type": "code",
   "execution_count": 11,
   "metadata": {},
   "outputs": [
    {
     "data": {
      "text/plain": [
       "RI      0\n",
       "Na      0\n",
       "Mg      0\n",
       "Al      0\n",
       "Si      0\n",
       "K       0\n",
       "Ca      0\n",
       "Ba      0\n",
       "Fe      0\n",
       "Type    0\n",
       "dtype: int64"
      ]
     },
     "execution_count": 11,
     "metadata": {},
     "output_type": "execute_result"
    }
   ],
   "source": [
    "data.isnull().sum()"
   ]
  },
  {
   "cell_type": "code",
   "execution_count": 12,
   "metadata": {},
   "outputs": [],
   "source": [
    "a = data.iloc[:,0:9].values"
   ]
  },
  {
   "cell_type": "code",
   "execution_count": 13,
   "metadata": {},
   "outputs": [],
   "source": [
    "A = np.asmatrix(a)"
   ]
  },
  {
   "cell_type": "markdown",
   "metadata": {},
   "source": [
    "# I am calculating A and A transpose and assiagn the values in mat_A_A"
   ]
  },
  {
   "cell_type": "code",
   "execution_count": 14,
   "metadata": {},
   "outputs": [],
   "source": [
    "mat_A_A = A@A.T"
   ]
  },
  {
   "cell_type": "markdown",
   "metadata": {},
   "source": [
    "# I have to claculate eigen_value and eigen_vector of mat_A_A"
   ]
  },
  {
   "cell_type": "code",
   "execution_count": 15,
   "metadata": {},
   "outputs": [],
   "source": [
    "eigen_value,eig_vec = np.linalg.eig(mat_A_A)"
   ]
  },
  {
   "cell_type": "markdown",
   "metadata": {},
   "source": [
    "# Sort the eigen values according to maximum to lower, high to low, This is optaional "
   ]
  },
  {
   "cell_type": "code",
   "execution_count": 16,
   "metadata": {},
   "outputs": [],
   "source": [
    "index = eigen_value.argsort()[::-1]"
   ]
  },
  {
   "cell_type": "code",
   "execution_count": 17,
   "metadata": {},
   "outputs": [
    {
     "data": {
      "text/plain": [
       "array([ 1.18781706e+06+0.00000000e+00j,  6.38032977e+02+0.00000000e+00j,\n",
       "        3.46127654e+02+0.00000000e+00j,  1.41402921e+02+0.00000000e+00j,\n",
       "        5.39369805e+01+0.00000000e+00j,  3.09382061e+01+0.00000000e+00j,\n",
       "        2.12568931e+01+0.00000000e+00j,  1.87835834e+00+0.00000000e+00j,\n",
       "        6.79211501e-04+0.00000000e+00j,  4.13542290e-11+3.07989172e-11j,\n",
       "        4.13542290e-11-3.07989172e-11j,  3.82968631e-11+1.18550028e-11j,\n",
       "        3.82968631e-11-1.18550028e-11j,  3.71184700e-11+0.00000000e+00j,\n",
       "        3.28109413e-11+5.46710089e-11j,  3.28109413e-11-5.46710089e-11j,\n",
       "        2.79299849e-11+1.45920888e-11j,  2.79299849e-11-1.45920888e-11j,\n",
       "        2.42497753e-11+1.50738836e-13j,  2.42497753e-11-1.50738836e-13j,\n",
       "        2.42478408e-11+6.99467949e-12j,  2.42478408e-11-6.99467949e-12j,\n",
       "        2.03630287e-11+7.66348967e-12j,  2.03630287e-11-7.66348967e-12j,\n",
       "        1.97569881e-11+0.00000000e+00j,  1.95984579e-11+7.65851805e-13j,\n",
       "        1.95984579e-11-7.65851805e-13j,  1.90984496e-11+3.22100398e-11j,\n",
       "        1.90984496e-11-3.22100398e-11j,  1.68573861e-11+2.54594382e-12j,\n",
       "        1.68573861e-11-2.54594382e-12j,  1.58725653e-11+1.87516432e-11j,\n",
       "        1.58725653e-11-1.87516432e-11j,  1.50590031e-11+5.88106248e-12j,\n",
       "        1.50590031e-11-5.88106248e-12j,  1.47640834e-11+0.00000000e+00j,\n",
       "        1.47068215e-11+8.79358811e-12j,  1.47068215e-11-8.79358811e-12j,\n",
       "        1.43337870e-11+9.62384440e-12j,  1.43337870e-11-9.62384440e-12j,\n",
       "        1.36626412e-11+4.40210939e-12j,  1.36626412e-11-4.40210939e-12j,\n",
       "        1.36320026e-11+1.47239586e-12j,  1.36320026e-11-1.47239586e-12j,\n",
       "        1.31586923e-11+9.56216824e-12j,  1.31586923e-11-9.56216824e-12j,\n",
       "        1.29573144e-11+3.12120832e-12j,  1.29573144e-11-3.12120832e-12j,\n",
       "        1.22292807e-11+1.28110873e-11j,  1.22292807e-11-1.28110873e-11j,\n",
       "        1.15765517e-11+0.00000000e+00j,  1.14909078e-11+9.64693073e-12j,\n",
       "        1.14909078e-11-9.64693073e-12j,  1.10327421e-11+4.55025910e-12j,\n",
       "        1.10327421e-11-4.55025910e-12j,  1.03225059e-11+2.77851723e-12j,\n",
       "        1.03225059e-11-2.77851723e-12j,  9.35590227e-12+7.58416515e-12j,\n",
       "        9.35590227e-12-7.58416515e-12j,  9.14103646e-12+1.17077967e-11j,\n",
       "        9.14103646e-12-1.17077967e-11j,  9.13801257e-12+1.92030236e-11j,\n",
       "        9.13801257e-12-1.92030236e-11j,  8.80990316e-12+2.48324929e-12j,\n",
       "        8.80990316e-12-2.48324929e-12j,  8.51237718e-12+7.80973784e-12j,\n",
       "        8.51237718e-12-7.80973784e-12j,  8.26579221e-12+1.30078777e-12j,\n",
       "        8.26579221e-12-1.30078777e-12j,  6.63772910e-12+1.30789283e-11j,\n",
       "        6.63772910e-12-1.30789283e-11j,  6.44985131e-12+4.34244145e-12j,\n",
       "        6.44985131e-12-4.34244145e-12j,  6.37970181e-12+7.53902525e-12j,\n",
       "        6.37970181e-12-7.53902525e-12j,  5.48945269e-12+4.58744590e-12j,\n",
       "        5.48945269e-12-4.58744590e-12j,  5.36198854e-12+9.28374661e-12j,\n",
       "        5.36198854e-12-9.28374661e-12j,  5.20816770e-12+8.61121825e-13j,\n",
       "        5.20816770e-12-8.61121825e-13j,  4.94987224e-12+0.00000000e+00j,\n",
       "        4.90372927e-12+1.16981797e-11j,  4.90372927e-12-1.16981797e-11j,\n",
       "        4.86901152e-12+7.35609290e-12j,  4.86901152e-12-7.35609290e-12j,\n",
       "        4.46845629e-12+1.65116985e-12j,  4.46845629e-12-1.65116985e-12j,\n",
       "        3.54161160e-12+1.17688733e-11j,  3.54161160e-12-1.17688733e-11j,\n",
       "        3.20045122e-12+5.17518116e-12j,  3.20045122e-12-5.17518116e-12j,\n",
       "        2.91028998e-12+5.82110117e-12j,  2.91028998e-12-5.82110117e-12j,\n",
       "        2.50407330e-12+1.41834585e-11j,  2.50407330e-12-1.41834585e-11j,\n",
       "        2.30709114e-12+0.00000000e+00j,  1.68202468e-12+2.01685654e-12j,\n",
       "        1.68202468e-12-2.01685654e-12j,  1.50681473e-12+2.01426028e-11j,\n",
       "        1.50681473e-12-2.01426028e-11j,  1.44095792e-12+1.04517451e-11j,\n",
       "        1.44095792e-12-1.04517451e-11j,  1.07967124e-12+9.08752852e-12j,\n",
       "        1.07967124e-12-9.08752852e-12j,  2.41801145e-13+6.78744816e-12j,\n",
       "        2.41801145e-13-6.78744816e-12j,  2.06211128e-27+0.00000000e+00j,\n",
       "       -2.60694586e-13+1.83409367e-12j, -2.60694586e-13-1.83409367e-12j,\n",
       "       -3.85427654e-13+5.38089773e-12j, -3.85427654e-13-5.38089773e-12j,\n",
       "       -8.27062883e-13+8.25690538e-12j, -8.27062883e-13-8.25690538e-12j,\n",
       "       -8.41615821e-13+7.05907168e-13j, -8.41615821e-13-7.05907168e-13j,\n",
       "       -1.71692933e-12+3.19440945e-12j, -1.71692933e-12-3.19440945e-12j,\n",
       "       -1.72794653e-12+0.00000000e+00j, -1.86733130e-12+1.26058425e-11j,\n",
       "       -1.86733130e-12-1.26058425e-11j, -2.47588321e-12+3.78938314e-12j,\n",
       "       -2.47588321e-12-3.78938314e-12j, -2.50677088e-12+3.80878345e-11j,\n",
       "       -2.50677088e-12-3.80878345e-11j, -2.62623365e-12+9.17193231e-12j,\n",
       "       -2.62623365e-12-9.17193231e-12j, -2.76310983e-12+0.00000000e+00j,\n",
       "       -3.22680503e-12+1.71114506e-11j, -3.22680503e-12-1.71114506e-11j,\n",
       "       -3.28467721e-12+5.13534223e-12j, -3.28467721e-12-5.13534223e-12j,\n",
       "       -3.49911599e-12+2.85896368e-12j, -3.49911599e-12-2.85896368e-12j,\n",
       "       -3.54418282e-12+1.17522952e-11j, -3.54418282e-12-1.17522952e-11j,\n",
       "       -4.32418649e-12+8.92550260e-12j, -4.32418649e-12-8.92550260e-12j,\n",
       "       -4.69343848e-12+1.53419769e-11j, -4.69343848e-12-1.53419769e-11j,\n",
       "       -4.78185729e-12+8.27392786e-12j, -4.78185729e-12-8.27392786e-12j,\n",
       "       -4.94398337e-12+1.13011250e-11j, -4.94398337e-12-1.13011250e-11j,\n",
       "       -5.36619418e-12+6.03363146e-12j, -5.36619418e-12-6.03363146e-12j,\n",
       "       -6.50897919e-12+0.00000000e+00j, -6.68223094e-12+1.97792049e-12j,\n",
       "       -6.68223094e-12-1.97792049e-12j, -6.78913313e-12+9.25462410e-12j,\n",
       "       -6.78913313e-12-9.25462410e-12j, -7.31559679e-12+2.18006516e-12j,\n",
       "       -7.31559679e-12-2.18006516e-12j, -7.42357925e-12+1.36553116e-11j,\n",
       "       -7.42357925e-12-1.36553116e-11j, -7.77358168e-12+6.07952849e-12j,\n",
       "       -7.77358168e-12-6.07952849e-12j, -8.11887136e-12+0.00000000e+00j,\n",
       "       -8.15102241e-12+4.97320407e-12j, -8.15102241e-12-4.97320407e-12j,\n",
       "       -8.78012408e-12+9.17624408e-12j, -8.78012408e-12-9.17624408e-12j,\n",
       "       -9.14871951e-12+7.18368274e-12j, -9.14871951e-12-7.18368274e-12j,\n",
       "       -9.49035149e-12+1.50615566e-12j, -9.49035149e-12-1.50615566e-12j,\n",
       "       -1.00438218e-11+3.11708093e-12j, -1.00438218e-11-3.11708093e-12j,\n",
       "       -1.04249360e-11+1.31926362e-11j, -1.04249360e-11-1.31926362e-11j,\n",
       "       -1.11916161e-11+4.96855761e-12j, -1.11916161e-11-4.96855761e-12j,\n",
       "       -1.13045798e-11+0.00000000e+00j, -1.16880467e-11+5.37168469e-11j,\n",
       "       -1.16880467e-11-5.37168469e-11j, -1.18402364e-11+7.27748603e-13j,\n",
       "       -1.18402364e-11-7.27748603e-13j, -1.25305674e-11+2.30105669e-12j,\n",
       "       -1.25305674e-11-2.30105669e-12j, -1.27900714e-11+8.25957039e-12j,\n",
       "       -1.27900714e-11-8.25957039e-12j, -1.34679360e-11+1.23059121e-11j,\n",
       "       -1.34679360e-11-1.23059121e-11j, -1.40765046e-11+1.81381477e-11j,\n",
       "       -1.40765046e-11-1.81381477e-11j, -1.47798876e-11+5.10439513e-12j,\n",
       "       -1.47798876e-11-5.10439513e-12j, -1.56097418e-11+2.45133601e-12j,\n",
       "       -1.56097418e-11-2.45133601e-12j, -1.57152250e-11+9.96547719e-12j,\n",
       "       -1.57152250e-11-9.96547719e-12j, -1.58114813e-11+6.88311280e-12j,\n",
       "       -1.58114813e-11-6.88311280e-12j, -1.63837839e-11+1.19629736e-12j,\n",
       "       -1.63837839e-11-1.19629736e-12j, -1.69862680e-11+7.89670649e-12j,\n",
       "       -1.69862680e-11-7.89670649e-12j, -1.80806211e-11+2.24238499e-11j,\n",
       "       -1.80806211e-11-2.24238499e-11j, -1.82628636e-11+4.54910163e-12j,\n",
       "       -1.82628636e-11-4.54910163e-12j, -1.91083888e-11+0.00000000e+00j,\n",
       "       -1.97100105e-11+2.96011698e-11j, -1.97100105e-11-2.96011698e-11j,\n",
       "       -2.16307060e-11+2.82755371e-12j, -2.16307060e-11-2.82755371e-12j,\n",
       "       -2.33425241e-11+0.00000000e+00j, -3.48447753e-11+7.30264574e-12j,\n",
       "       -3.48447753e-11-7.30264574e-12j, -4.33971732e-11+1.03624504e-11j,\n",
       "       -4.33971732e-11-1.03624504e-11j, -4.34419730e-11+0.00000000e+00j,\n",
       "       -4.86255707e-11+4.31534029e-11j, -4.86255707e-11-4.31534029e-11j])"
      ]
     },
     "execution_count": 17,
     "metadata": {},
     "output_type": "execute_result"
    }
   ],
   "source": [
    "eigen_values = eigen_value[index]\n",
    "eigen_val = eigen_values  #[0:6]\n",
    "eigen_val"
   ]
  },
  {
   "cell_type": "code",
   "execution_count": 18,
   "metadata": {},
   "outputs": [
    {
     "data": {
      "text/plain": [
       "matrix([[-0.06764209+0.j        , -0.05484516+0.j        ,\n",
       "         -0.05342228+0.j        , ..., -0.06272254+0.j        ,\n",
       "          0.01673901-0.07118569j,  0.01673901+0.07118569j],\n",
       "        [-0.06840969+0.j        , -0.0572254 +0.j        ,\n",
       "          0.0169005 +0.j        , ...,  0.01109372+0.j        ,\n",
       "          0.02931625+0.00088999j,  0.02931625-0.00088999j],\n",
       "        [-0.06857836+0.j        , -0.05727488+0.j        ,\n",
       "          0.01476463+0.j        , ...,  0.05270729+0.j        ,\n",
       "         -0.01863921-0.08228128j, -0.01863921+0.08228128j],\n",
       "        ...,\n",
       "        [-0.06906554+0.j        ,  0.06800534+0.j        ,\n",
       "          0.14241233+0.j        , ..., -0.07716163+0.j        ,\n",
       "          0.02929451+0.02863774j,  0.02929451-0.02863774j],\n",
       "        [-0.06924161+0.j        ,  0.06828975+0.j        ,\n",
       "          0.13962442+0.j        , ...,  0.12783265+0.j        ,\n",
       "          0.00403153+0.0048572j ,  0.00403153-0.0048572j ],\n",
       "        [-0.0690113 +0.j        ,  0.07315584+0.j        ,\n",
       "          0.13483181+0.j        , ...,  0.00736721+0.j        ,\n",
       "          0.02767648-0.01945976j,  0.02767648+0.01945976j]])"
      ]
     },
     "execution_count": 18,
     "metadata": {},
     "output_type": "execute_result"
    }
   ],
   "source": [
    "eigen_vector = eig_vec[:,index]   #[0:6,0:6]\n",
    "eigen_vector"
   ]
  },
  {
   "cell_type": "markdown",
   "metadata": {},
   "source": [
    "# I have to use Gram-Schmidt orthonormalization "
   ]
  },
  {
   "cell_type": "code",
   "execution_count": 19,
   "metadata": {},
   "outputs": [],
   "source": [
    "from scipy import linalg\n",
    "matrix_U = linalg.orth(eigen_vector)"
   ]
  },
  {
   "cell_type": "code",
   "execution_count": 20,
   "metadata": {},
   "outputs": [
    {
     "data": {
      "text/plain": [
       "(214, 214)"
      ]
     },
     "execution_count": 20,
     "metadata": {},
     "output_type": "execute_result"
    }
   ],
   "source": [
    "matrix_U.shape"
   ]
  },
  {
   "cell_type": "markdown",
   "metadata": {},
   "source": [
    "# I have to make digonal matrix of eigen_values"
   ]
  },
  {
   "cell_type": "code",
   "execution_count": 21,
   "metadata": {},
   "outputs": [],
   "source": [
    "matrix_z = np.diag(eigen_val)"
   ]
  },
  {
   "cell_type": "code",
   "execution_count": 22,
   "metadata": {},
   "outputs": [
    {
     "data": {
      "text/plain": [
       "array([[ 1.18781706e+06+0.00000000e+00j,  0.00000000e+00+0.00000000e+00j,\n",
       "         0.00000000e+00+0.00000000e+00j, ...,\n",
       "         0.00000000e+00+0.00000000e+00j,  0.00000000e+00+0.00000000e+00j,\n",
       "         0.00000000e+00+0.00000000e+00j],\n",
       "       [ 0.00000000e+00+0.00000000e+00j,  6.38032977e+02+0.00000000e+00j,\n",
       "         0.00000000e+00+0.00000000e+00j, ...,\n",
       "         0.00000000e+00+0.00000000e+00j,  0.00000000e+00+0.00000000e+00j,\n",
       "         0.00000000e+00+0.00000000e+00j],\n",
       "       [ 0.00000000e+00+0.00000000e+00j,  0.00000000e+00+0.00000000e+00j,\n",
       "         3.46127654e+02+0.00000000e+00j, ...,\n",
       "         0.00000000e+00+0.00000000e+00j,  0.00000000e+00+0.00000000e+00j,\n",
       "         0.00000000e+00+0.00000000e+00j],\n",
       "       ...,\n",
       "       [ 0.00000000e+00+0.00000000e+00j,  0.00000000e+00+0.00000000e+00j,\n",
       "         0.00000000e+00+0.00000000e+00j, ...,\n",
       "        -4.34419730e-11+0.00000000e+00j,  0.00000000e+00+0.00000000e+00j,\n",
       "         0.00000000e+00+0.00000000e+00j],\n",
       "       [ 0.00000000e+00+0.00000000e+00j,  0.00000000e+00+0.00000000e+00j,\n",
       "         0.00000000e+00+0.00000000e+00j, ...,\n",
       "         0.00000000e+00+0.00000000e+00j, -4.86255707e-11+4.31534029e-11j,\n",
       "         0.00000000e+00+0.00000000e+00j],\n",
       "       [ 0.00000000e+00+0.00000000e+00j,  0.00000000e+00+0.00000000e+00j,\n",
       "         0.00000000e+00+0.00000000e+00j, ...,\n",
       "         0.00000000e+00+0.00000000e+00j,  0.00000000e+00+0.00000000e+00j,\n",
       "        -4.86255707e-11-4.31534029e-11j]])"
      ]
     },
     "execution_count": 22,
     "metadata": {},
     "output_type": "execute_result"
    }
   ],
   "source": [
    "matrix_z"
   ]
  },
  {
   "cell_type": "markdown",
   "metadata": {},
   "source": [
    "# Now i am calculating the A_transpose into A to calculate V matrix"
   ]
  },
  {
   "cell_type": "code",
   "execution_count": 23,
   "metadata": {},
   "outputs": [
    {
     "data": {
      "text/plain": [
       "(9, 9)"
      ]
     },
     "execution_count": 23,
     "metadata": {},
     "output_type": "execute_result"
    }
   ],
   "source": [
    "Mat_B_B_T = A.T@A\n",
    "Mat_B_B_T.shape"
   ]
  },
  {
   "cell_type": "code",
   "execution_count": 24,
   "metadata": {},
   "outputs": [],
   "source": [
    "Eig_val, eig_vector = np.linalg.eig(Mat_B_B_T)"
   ]
  },
  {
   "cell_type": "code",
   "execution_count": 25,
   "metadata": {},
   "outputs": [
    {
     "data": {
      "text/plain": [
       "array([1.18781706e+06, 6.38032977e+02, 3.46127654e+02, 1.41402921e+02,\n",
       "       5.39369805e+01, 3.09382061e+01, 2.12568931e+01, 6.79211509e-04,\n",
       "       1.87835834e+00])"
      ]
     },
     "execution_count": 25,
     "metadata": {},
     "output_type": "execute_result"
    }
   ],
   "source": [
    "Eig_val"
   ]
  },
  {
   "cell_type": "code",
   "execution_count": 26,
   "metadata": {},
   "outputs": [],
   "source": [
    "Index = Eig_val.argsort()[::-1] "
   ]
  },
  {
   "cell_type": "code",
   "execution_count": 27,
   "metadata": {},
   "outputs": [
    {
     "data": {
      "text/plain": [
       "array([0, 1, 2, 3, 4, 5, 6, 8, 7], dtype=int64)"
      ]
     },
     "execution_count": 27,
     "metadata": {},
     "output_type": "execute_result"
    }
   ],
   "source": [
    "Index"
   ]
  },
  {
   "cell_type": "code",
   "execution_count": 28,
   "metadata": {},
   "outputs": [],
   "source": [
    "Eigen_values = Eig_val[Index] #[0:6]"
   ]
  },
  {
   "cell_type": "code",
   "execution_count": 29,
   "metadata": {},
   "outputs": [
    {
     "data": {
      "text/plain": [
       "array([1.18781706e+06, 6.38032977e+02, 3.46127654e+02, 1.41402921e+02,\n",
       "       5.39369805e+01, 3.09382061e+01, 2.12568931e+01, 1.87835834e+00,\n",
       "       6.79211509e-04])"
      ]
     },
     "execution_count": 29,
     "metadata": {},
     "output_type": "execute_result"
    }
   ],
   "source": [
    "Eigen_values"
   ]
  },
  {
   "cell_type": "code",
   "execution_count": 30,
   "metadata": {},
   "outputs": [],
   "source": [
    "Eigen_vector = eig_vector[:,Index] #[0:6,0:6]"
   ]
  },
  {
   "cell_type": "code",
   "execution_count": 31,
   "metadata": {},
   "outputs": [
    {
     "data": {
      "text/plain": [
       "(9, 9)"
      ]
     },
     "execution_count": 31,
     "metadata": {},
     "output_type": "execute_result"
    }
   ],
   "source": [
    "Eigen_vector.shape"
   ]
  },
  {
   "cell_type": "markdown",
   "metadata": {},
   "source": [
    "# I have to use Gram-Schmidt orthonormalization to claculate orthinormal matrix"
   ]
  },
  {
   "cell_type": "code",
   "execution_count": 32,
   "metadata": {},
   "outputs": [],
   "source": [
    "matrix_V = linalg.orth(Eigen_vector)"
   ]
  },
  {
   "cell_type": "code",
   "execution_count": 33,
   "metadata": {},
   "outputs": [
    {
     "data": {
      "text/plain": [
       "array([[-9.06758491e-02, -6.71761667e-01,  2.55816728e-01,\n",
       "         4.93803342e-04, -2.03790928e-02, -1.61491574e-02,\n",
       "        -1.88017878e-01,  5.80051972e-01,  3.20288300e-01],\n",
       "       [ 3.50137967e-01,  1.74064338e-01,  1.39891348e-01,\n",
       "        -1.97356222e-01, -1.79962983e-01,  1.41141071e-01,\n",
       "         4.81005991e-01, -4.33154095e-02,  7.09249940e-01],\n",
       "       [-1.15125728e-01,  2.63582041e-01,  3.87817263e-01,\n",
       "         7.75850338e-01, -3.59809934e-02,  1.83643331e-01,\n",
       "        -2.45086125e-01, -9.59873086e-02,  2.46220068e-01],\n",
       "       [-5.95279600e-01,  1.27032118e-01, -4.18977049e-01,\n",
       "         1.84028167e-01, -1.93898237e-02, -4.84298263e-01,\n",
       "         2.52242364e-01,  1.26996738e-01,  3.24687158e-01],\n",
       "       [-5.28369485e-02, -6.54557996e-02, -7.43339639e-02,\n",
       "         4.89508180e-02, -9.75206605e-01,  4.69685988e-02,\n",
       "        -1.21038687e-02,  9.83844978e-03, -1.77552260e-01],\n",
       "       [ 3.67660498e-01, -2.08686228e-01, -6.36130726e-01,\n",
       "         1.53311684e-01, -6.64429842e-03,  1.94679686e-02,\n",
       "        -4.70220381e-01, -2.41659418e-01,  3.36421483e-01],\n",
       "       [ 4.18262721e-02,  2.94828501e-01,  3.37890956e-01,\n",
       "        -3.63789863e-01, -1.20205146e-01, -5.79361466e-01,\n",
       "        -5.25650271e-01, -8.81074673e-02,  1.75023534e-01],\n",
       "       [-6.01266274e-01, -9.12472990e-02,  3.21484182e-02,\n",
       "        -3.76813362e-01, -2.34335130e-03,  4.85142543e-01,\n",
       "        -2.09450752e-01, -3.94357691e-01,  2.28854939e-01],\n",
       "       [-1.82484370e-02,  5.38275858e-01, -2.52294587e-01,\n",
       "        -1.58139610e-01, -7.63743450e-04,  3.71403656e-01,\n",
       "        -2.61070029e-01,  6.43851509e-01,  2.49362272e-02]])"
      ]
     },
     "execution_count": 33,
     "metadata": {},
     "output_type": "execute_result"
    }
   ],
   "source": [
    "matrix_V "
   ]
  },
  {
   "cell_type": "markdown",
   "metadata": {},
   "source": [
    "# This is the final step of SVD "
   ]
  },
  {
   "cell_type": "code",
   "execution_count": 34,
   "metadata": {},
   "outputs": [],
   "source": [
    "Error=[]\n",
    "for i in range(0,9):\n",
    "    Approx = np.matmul(np.matmul(matrix_U[:,:i],matrix_z[:i,:i]),matrix_V[:i,:])\n",
    "    Error.append(np.linalg.norm(A-Approx)) "
   ]
  },
  {
   "cell_type": "code",
   "execution_count": 35,
   "metadata": {},
   "outputs": [
    {
     "data": {
      "image/png": "[encoded data removed]",
      "text/plain": [
       "<Figure size 432x288 with 1 Axes>"
      ]
     },
     "metadata": {},
     "output_type": "display_data"
    }
   ],
   "source": [
    "plt.plot(Error,label='Error')\n",
    "plt.bar(range(9),Error, color = ['pink','orange','blue','green',\n",
    "                                 'maroon','lightpink','black','Tomato','purple'],label= 'SVD') \n",
    "plt.xlabel('singular value Decomposition')\n",
    "plt.ylabel('Error')\n",
    "plt.title('SVD Graph')\n",
    "plt.grid()\n",
    "plt.legend(loc='best')\n",
    "plt.show()"
   ]
  },
  {
   "cell_type": "code",
   "execution_count": 36,
   "metadata": {},
   "outputs": [
    {
     "name": "stdout",
     "output_type": "stream",
     "text": [
      "Error \n",
      "[1090.4359815890969, 1187817.555794727, 1187817.7271535555, 1187817.7775839993, 1187817.7860006047, 1187817.7872252022, 1187817.7876281142, 1187817.7878183182, 1187817.7878198037]\n"
     ]
    }
   ],
   "source": [
    "print('Error \\n%s'%Error)"
   ]
  },
  {
   "cell_type": "markdown",
   "metadata": {},
   "source": [
    "# PCA code from here"
   ]
  },
  {
   "cell_type": "markdown",
   "metadata": {},
   "source": [
    "# Covariance of matrix"
   ]
  },
  {
   "cell_type": "code",
   "execution_count": 37,
   "metadata": {},
   "outputs": [
    {
     "data": {
      "text/plain": [
       "(214, 214)"
      ]
     },
     "execution_count": 37,
     "metadata": {},
     "output_type": "execute_result"
    }
   ],
   "source": [
    "cov_mat = A@A.T\n",
    "cov_mat.shape"
   ]
  },
  {
   "cell_type": "code",
   "execution_count": 38,
   "metadata": {},
   "outputs": [],
   "source": [
    "Eig_Values1, Eig_Vector1 = np.linalg.eig(cov_mat)"
   ]
  },
  {
   "cell_type": "code",
   "execution_count": 39,
   "metadata": {},
   "outputs": [
    {
     "data": {
      "text/plain": [
       "array([ 1.18781706e+06+0.00000000e+00j,  6.38032977e+02+0.00000000e+00j,\n",
       "        3.46127654e+02+0.00000000e+00j,  1.41402921e+02+0.00000000e+00j,\n",
       "        5.39369805e+01+0.00000000e+00j,  3.09382061e+01+0.00000000e+00j,\n",
       "        2.12568931e+01+0.00000000e+00j,  1.87835834e+00+0.00000000e+00j,\n",
       "        6.79211501e-04+0.00000000e+00j, -4.86255707e-11+4.31534029e-11j,\n",
       "       -4.86255707e-11-4.31534029e-11j,  3.28109413e-11+5.46710089e-11j,\n",
       "        3.28109413e-11-5.46710089e-11j, -1.16880467e-11+5.37168469e-11j,\n",
       "       -1.16880467e-11-5.37168469e-11j,  4.13542290e-11+3.07989172e-11j,\n",
       "        4.13542290e-11-3.07989172e-11j, -4.33971732e-11+1.03624504e-11j,\n",
       "       -4.33971732e-11-1.03624504e-11j, -4.34419730e-11+0.00000000e+00j,\n",
       "        3.82968631e-11+1.18550028e-11j,  3.82968631e-11-1.18550028e-11j,\n",
       "       -2.50677088e-12+3.80878345e-11j, -2.50677088e-12-3.80878345e-11j,\n",
       "        1.90984496e-11+3.22100398e-11j,  1.90984496e-11-3.22100398e-11j,\n",
       "        3.71184700e-11+0.00000000e+00j, -1.97100105e-11+2.96011698e-11j,\n",
       "       -1.97100105e-11-2.96011698e-11j, -3.48447753e-11+7.30264574e-12j,\n",
       "       -3.48447753e-11-7.30264574e-12j,  2.79299849e-11+1.45920888e-11j,\n",
       "        2.79299849e-11-1.45920888e-11j, -1.80806211e-11+2.24238499e-11j,\n",
       "       -1.80806211e-11-2.24238499e-11j,  1.58725653e-11+1.87516432e-11j,\n",
       "        1.58725653e-11-1.87516432e-11j,  2.42478408e-11+6.99467949e-12j,\n",
       "        2.42478408e-11-6.99467949e-12j,  2.42497753e-11+1.50738836e-13j,\n",
       "        2.42497753e-11-1.50738836e-13j, -1.40765046e-11+1.81381477e-11j,\n",
       "       -1.40765046e-11-1.81381477e-11j,  9.13801257e-12+1.92030236e-11j,\n",
       "        9.13801257e-12-1.92030236e-11j,  2.03630287e-11+7.66348967e-12j,\n",
       "        2.03630287e-11-7.66348967e-12j, -2.33425241e-11+0.00000000e+00j,\n",
       "        1.50681473e-12+2.01426028e-11j,  1.50681473e-12-2.01426028e-11j,\n",
       "       -2.16307060e-11+2.82755371e-12j, -2.16307060e-11-2.82755371e-12j,\n",
       "        1.97569881e-11+0.00000000e+00j,  1.95984579e-11+7.65851805e-13j,\n",
       "        1.95984579e-11-7.65851805e-13j, -3.22680503e-12+1.71114506e-11j,\n",
       "       -3.22680503e-12-1.71114506e-11j,  1.22292807e-11+1.28110873e-11j,\n",
       "        1.22292807e-11-1.28110873e-11j, -1.34679360e-11+1.23059121e-11j,\n",
       "       -1.34679360e-11-1.23059121e-11j, -1.57152250e-11+9.96547719e-12j,\n",
       "       -1.57152250e-11-9.96547719e-12j, -1.91083888e-11+0.00000000e+00j,\n",
       "       -1.69862680e-11+7.89670649e-12j, -1.69862680e-11-7.89670649e-12j,\n",
       "       -1.82628636e-11+4.54910163e-12j, -1.82628636e-11-4.54910163e-12j,\n",
       "       -1.04249360e-11+1.31926362e-11j, -1.04249360e-11-1.31926362e-11j,\n",
       "       -4.69343848e-12+1.53419769e-11j, -4.69343848e-12-1.53419769e-11j,\n",
       "        1.43337870e-11+9.62384440e-12j,  1.43337870e-11-9.62384440e-12j,\n",
       "        1.47068215e-11+8.79358811e-12j,  1.47068215e-11-8.79358811e-12j,\n",
       "        1.68573861e-11+2.54594382e-12j,  1.68573861e-11-2.54594382e-12j,\n",
       "       -1.58114813e-11+6.88311280e-12j, -1.58114813e-11-6.88311280e-12j,\n",
       "        1.31586923e-11+9.56216824e-12j,  1.31586923e-11-9.56216824e-12j,\n",
       "       -7.42357925e-12+1.36553116e-11j, -7.42357925e-12-1.36553116e-11j,\n",
       "        1.50590031e-11+5.88106248e-12j,  1.50590031e-11-5.88106248e-12j,\n",
       "        6.63772910e-12+1.30789283e-11j,  6.63772910e-12-1.30789283e-11j,\n",
       "        2.50407330e-12+1.41834585e-11j,  2.50407330e-12-1.41834585e-11j,\n",
       "        9.14103646e-12+1.17077967e-11j,  9.14103646e-12-1.17077967e-11j,\n",
       "        1.14909078e-11+9.64693073e-12j,  1.14909078e-11-9.64693073e-12j,\n",
       "        1.47640834e-11+0.00000000e+00j, -1.63837839e-11+1.19629736e-12j,\n",
       "       -1.63837839e-11-1.19629736e-12j, -1.27900714e-11+8.25957039e-12j,\n",
       "       -1.27900714e-11-8.25957039e-12j, -1.47798876e-11+5.10439513e-12j,\n",
       "       -1.47798876e-11-5.10439513e-12j, -1.56097418e-11+2.45133601e-12j,\n",
       "       -1.56097418e-11-2.45133601e-12j,  1.36626412e-11+4.40210939e-12j,\n",
       "        1.36626412e-11-4.40210939e-12j, -1.86733130e-12+1.26058425e-11j,\n",
       "       -1.86733130e-12-1.26058425e-11j,  4.90372927e-12+1.16981797e-11j,\n",
       "        4.90372927e-12-1.16981797e-11j,  1.36320026e-11+1.47239586e-12j,\n",
       "        1.36320026e-11-1.47239586e-12j,  1.29573144e-11+3.12120832e-12j,\n",
       "        1.29573144e-11-3.12120832e-12j,  3.54161160e-12+1.17688733e-11j,\n",
       "        3.54161160e-12-1.17688733e-11j, -3.54418282e-12+1.17522952e-11j,\n",
       "       -3.54418282e-12-1.17522952e-11j, -4.94398337e-12+1.13011250e-11j,\n",
       "       -4.94398337e-12-1.13011250e-11j, -8.78012408e-12+9.17624408e-12j,\n",
       "       -8.78012408e-12-9.17624408e-12j,  9.35590227e-12+7.58416515e-12j,\n",
       "        9.35590227e-12-7.58416515e-12j,  8.51237718e-12+7.80973784e-12j,\n",
       "        8.51237718e-12-7.80973784e-12j,  1.10327421e-11+4.55025910e-12j,\n",
       "        1.10327421e-11-4.55025910e-12j, -6.78913313e-12+9.25462410e-12j,\n",
       "       -6.78913313e-12-9.25462410e-12j, -1.25305674e-11+2.30105669e-12j,\n",
       "       -1.25305674e-11-2.30105669e-12j, -1.11916161e-11+4.96855761e-12j,\n",
       "       -1.11916161e-11-4.96855761e-12j, -9.14871951e-12+7.18368274e-12j,\n",
       "       -9.14871951e-12-7.18368274e-12j,  1.15765517e-11+0.00000000e+00j,\n",
       "        1.44095792e-12+1.04517451e-11j,  1.44095792e-12-1.04517451e-11j,\n",
       "        5.36198854e-12+9.28374661e-12j,  5.36198854e-12-9.28374661e-12j,\n",
       "       -1.18402364e-11+7.27748603e-13j, -1.18402364e-11-7.27748603e-13j,\n",
       "        1.03225059e-11+2.77851723e-12j,  1.03225059e-11-2.77851723e-12j,\n",
       "        6.37970181e-12+7.53902525e-12j,  6.37970181e-12-7.53902525e-12j,\n",
       "       -1.13045798e-11+0.00000000e+00j, -4.32418649e-12+8.92550260e-12j,\n",
       "       -4.32418649e-12-8.92550260e-12j,  1.07967124e-12+9.08752852e-12j,\n",
       "        1.07967124e-12-9.08752852e-12j, -2.62623365e-12+9.17193231e-12j,\n",
       "       -2.62623365e-12-9.17193231e-12j, -4.78185729e-12+8.27392786e-12j,\n",
       "       -4.78185729e-12-8.27392786e-12j, -7.77358168e-12+6.07952849e-12j,\n",
       "       -7.77358168e-12-6.07952849e-12j, -1.00438218e-11+3.11708093e-12j,\n",
       "       -1.00438218e-11-3.11708093e-12j,  4.86901152e-12+7.35609290e-12j,\n",
       "        4.86901152e-12-7.35609290e-12j, -8.15102241e-12+4.97320407e-12j,\n",
       "       -8.15102241e-12-4.97320407e-12j,  8.80990316e-12+2.48324929e-12j,\n",
       "        8.80990316e-12-2.48324929e-12j, -8.27062883e-13+8.25690538e-12j,\n",
       "       -8.27062883e-13-8.25690538e-12j, -8.11887136e-12+0.00000000e+00j,\n",
       "       -5.36619418e-12+6.03363146e-12j, -5.36619418e-12-6.03363146e-12j,\n",
       "       -9.49035149e-12+1.50615566e-12j, -9.49035149e-12-1.50615566e-12j,\n",
       "        8.26579221e-12+1.30078777e-12j,  8.26579221e-12-1.30078777e-12j,\n",
       "        6.44985131e-12+4.34244145e-12j,  6.44985131e-12-4.34244145e-12j,\n",
       "        2.41801145e-13+6.78744816e-12j,  2.41801145e-13-6.78744816e-12j,\n",
       "        5.48945269e-12+4.58744590e-12j,  5.48945269e-12-4.58744590e-12j,\n",
       "        2.91028998e-12+5.82110117e-12j,  2.91028998e-12-5.82110117e-12j,\n",
       "        3.20045122e-12+5.17518116e-12j,  3.20045122e-12-5.17518116e-12j,\n",
       "       -3.85427654e-13+5.38089773e-12j, -3.85427654e-13-5.38089773e-12j,\n",
       "       -7.31559679e-12+2.18006516e-12j, -7.31559679e-12-2.18006516e-12j,\n",
       "       -3.28467721e-12+5.13534223e-12j, -3.28467721e-12-5.13534223e-12j,\n",
       "       -6.68223094e-12+1.97792049e-12j, -6.68223094e-12-1.97792049e-12j,\n",
       "       -6.50897919e-12+0.00000000e+00j,  4.46845629e-12+1.65116985e-12j,\n",
       "        4.46845629e-12-1.65116985e-12j,  5.20816770e-12+8.61121825e-13j,\n",
       "        5.20816770e-12-8.61121825e-13j,  4.94987224e-12+0.00000000e+00j,\n",
       "       -2.47588321e-12+3.78938314e-12j, -2.47588321e-12-3.78938314e-12j,\n",
       "        1.68202468e-12+2.01685654e-12j,  1.68202468e-12-2.01685654e-12j,\n",
       "        2.30709114e-12+0.00000000e+00j, -3.49911599e-12+2.85896368e-12j,\n",
       "       -3.49911599e-12-2.85896368e-12j, -1.71692933e-12+3.19440945e-12j,\n",
       "       -1.71692933e-12-3.19440945e-12j, -2.60694586e-13+1.83409367e-12j,\n",
       "       -2.60694586e-13-1.83409367e-12j, -2.76310983e-12+0.00000000e+00j,\n",
       "       -8.41615821e-13+7.05907168e-13j, -8.41615821e-13-7.05907168e-13j,\n",
       "       -1.72794653e-12+0.00000000e+00j,  2.06211128e-27+0.00000000e+00j])"
      ]
     },
     "execution_count": 39,
     "metadata": {},
     "output_type": "execute_result"
    }
   ],
   "source": [
    "Eig_Values1"
   ]
  },
  {
   "cell_type": "code",
   "execution_count": 40,
   "metadata": {},
   "outputs": [],
   "source": [
    "Index = [i for i in range(len(Eig_Values1))]"
   ]
  },
  {
   "cell_type": "markdown",
   "metadata": {},
   "source": [
    "# Sort the eigen values according to their index, high to low, This is optaional¶"
   ]
  },
  {
   "cell_type": "code",
   "execution_count": 41,
   "metadata": {},
   "outputs": [],
   "source": [
    "def Bobble_Sort(eigen_value, Index):\n",
    "    for i in range(len(eigen_value)-1):\n",
    "        for j in range(len(eigen_value)-i-1):\n",
    "            if eigen_value[j]< eigen_value[j+1]:\n",
    "                temp = eigen_value[j]\n",
    "                eigen_value[j] = eigen_value[j+1]\n",
    "                eigen_value[j+1] = temp\n",
    "                \n",
    "                temp = Index[j]\n",
    "                Index[j] = Index[j+1]\n",
    "                Index[j+1] = temp\n",
    "    return eigen_value,Index"
   ]
  },
  {
   "cell_type": "code",
   "execution_count": 42,
   "metadata": {},
   "outputs": [],
   "source": [
    "Eigen_Values2 , index1 = Bobble_Sort(Eig_Values1, Index)"
   ]
  },
  {
   "cell_type": "code",
   "execution_count": 43,
   "metadata": {},
   "outputs": [
    {
     "data": {
      "text/plain": [
       "array([ 1.18781706e+06+0.00000000e+00j,  6.38032977e+02+0.00000000e+00j,\n",
       "        3.46127654e+02+0.00000000e+00j,  1.41402921e+02+0.00000000e+00j,\n",
       "        5.39369805e+01+0.00000000e+00j,  3.09382061e+01+0.00000000e+00j,\n",
       "        2.12568931e+01+0.00000000e+00j,  1.87835834e+00+0.00000000e+00j,\n",
       "        6.79211501e-04+0.00000000e+00j,  4.13542290e-11+3.07989172e-11j,\n",
       "        4.13542290e-11-3.07989172e-11j,  3.82968631e-11+1.18550028e-11j,\n",
       "        3.82968631e-11-1.18550028e-11j,  3.71184700e-11+0.00000000e+00j,\n",
       "        3.28109413e-11+5.46710089e-11j,  3.28109413e-11-5.46710089e-11j,\n",
       "        2.79299849e-11+1.45920888e-11j,  2.79299849e-11-1.45920888e-11j,\n",
       "        2.42497753e-11+1.50738836e-13j,  2.42497753e-11-1.50738836e-13j,\n",
       "        2.42478408e-11+6.99467949e-12j,  2.42478408e-11-6.99467949e-12j,\n",
       "        2.03630287e-11+7.66348967e-12j,  2.03630287e-11-7.66348967e-12j,\n",
       "        1.97569881e-11+0.00000000e+00j,  1.95984579e-11+7.65851805e-13j,\n",
       "        1.95984579e-11-7.65851805e-13j,  1.90984496e-11+3.22100398e-11j,\n",
       "        1.90984496e-11-3.22100398e-11j,  1.68573861e-11+2.54594382e-12j,\n",
       "        1.68573861e-11-2.54594382e-12j,  1.58725653e-11+1.87516432e-11j,\n",
       "        1.58725653e-11-1.87516432e-11j,  1.50590031e-11+5.88106248e-12j,\n",
       "        1.50590031e-11-5.88106248e-12j,  1.47640834e-11+0.00000000e+00j,\n",
       "        1.47068215e-11+8.79358811e-12j,  1.47068215e-11-8.79358811e-12j,\n",
       "        1.43337870e-11+9.62384440e-12j,  1.43337870e-11-9.62384440e-12j,\n",
       "        1.36626412e-11+4.40210939e-12j,  1.36626412e-11-4.40210939e-12j,\n",
       "        1.36320026e-11+1.47239586e-12j,  1.36320026e-11-1.47239586e-12j,\n",
       "        1.31586923e-11+9.56216824e-12j,  1.31586923e-11-9.56216824e-12j,\n",
       "        1.29573144e-11+3.12120832e-12j,  1.29573144e-11-3.12120832e-12j,\n",
       "        1.22292807e-11+1.28110873e-11j,  1.22292807e-11-1.28110873e-11j,\n",
       "        1.15765517e-11+0.00000000e+00j,  1.14909078e-11+9.64693073e-12j,\n",
       "        1.14909078e-11-9.64693073e-12j,  1.10327421e-11+4.55025910e-12j,\n",
       "        1.10327421e-11-4.55025910e-12j,  1.03225059e-11+2.77851723e-12j,\n",
       "        1.03225059e-11-2.77851723e-12j,  9.35590227e-12+7.58416515e-12j,\n",
       "        9.35590227e-12-7.58416515e-12j,  9.14103646e-12+1.17077967e-11j,\n",
       "        9.14103646e-12-1.17077967e-11j,  9.13801257e-12+1.92030236e-11j,\n",
       "        9.13801257e-12-1.92030236e-11j,  8.80990316e-12+2.48324929e-12j,\n",
       "        8.80990316e-12-2.48324929e-12j,  8.51237718e-12+7.80973784e-12j,\n",
       "        8.51237718e-12-7.80973784e-12j,  8.26579221e-12+1.30078777e-12j,\n",
       "        8.26579221e-12-1.30078777e-12j,  6.63772910e-12+1.30789283e-11j,\n",
       "        6.63772910e-12-1.30789283e-11j,  6.44985131e-12+4.34244145e-12j,\n",
       "        6.44985131e-12-4.34244145e-12j,  6.37970181e-12+7.53902525e-12j,\n",
       "        6.37970181e-12-7.53902525e-12j,  5.48945269e-12+4.58744590e-12j,\n",
       "        5.48945269e-12-4.58744590e-12j,  5.36198854e-12+9.28374661e-12j,\n",
       "        5.36198854e-12-9.28374661e-12j,  5.20816770e-12+8.61121825e-13j,\n",
       "        5.20816770e-12-8.61121825e-13j,  4.94987224e-12+0.00000000e+00j,\n",
       "        4.90372927e-12+1.16981797e-11j,  4.90372927e-12-1.16981797e-11j,\n",
       "        4.86901152e-12+7.35609290e-12j,  4.86901152e-12-7.35609290e-12j,\n",
       "        4.46845629e-12+1.65116985e-12j,  4.46845629e-12-1.65116985e-12j,\n",
       "        3.54161160e-12+1.17688733e-11j,  3.54161160e-12-1.17688733e-11j,\n",
       "        3.20045122e-12+5.17518116e-12j,  3.20045122e-12-5.17518116e-12j,\n",
       "        2.91028998e-12+5.82110117e-12j,  2.91028998e-12-5.82110117e-12j,\n",
       "        2.50407330e-12+1.41834585e-11j,  2.50407330e-12-1.41834585e-11j,\n",
       "        2.30709114e-12+0.00000000e+00j,  1.68202468e-12+2.01685654e-12j,\n",
       "        1.68202468e-12-2.01685654e-12j,  1.50681473e-12+2.01426028e-11j,\n",
       "        1.50681473e-12-2.01426028e-11j,  1.44095792e-12+1.04517451e-11j,\n",
       "        1.44095792e-12-1.04517451e-11j,  1.07967124e-12+9.08752852e-12j,\n",
       "        1.07967124e-12-9.08752852e-12j,  2.41801145e-13+6.78744816e-12j,\n",
       "        2.41801145e-13-6.78744816e-12j,  2.06211128e-27+0.00000000e+00j,\n",
       "       -2.60694586e-13+1.83409367e-12j, -2.60694586e-13-1.83409367e-12j,\n",
       "       -3.85427654e-13+5.38089773e-12j, -3.85427654e-13-5.38089773e-12j,\n",
       "       -8.27062883e-13+8.25690538e-12j, -8.27062883e-13-8.25690538e-12j,\n",
       "       -8.41615821e-13+7.05907168e-13j, -8.41615821e-13-7.05907168e-13j,\n",
       "       -1.71692933e-12+3.19440945e-12j, -1.71692933e-12-3.19440945e-12j,\n",
       "       -1.72794653e-12+0.00000000e+00j, -1.86733130e-12+1.26058425e-11j,\n",
       "       -1.86733130e-12-1.26058425e-11j, -2.47588321e-12+3.78938314e-12j,\n",
       "       -2.47588321e-12-3.78938314e-12j, -2.50677088e-12+3.80878345e-11j,\n",
       "       -2.50677088e-12-3.80878345e-11j, -2.62623365e-12+9.17193231e-12j,\n",
       "       -2.62623365e-12-9.17193231e-12j, -2.76310983e-12+0.00000000e+00j,\n",
       "       -3.22680503e-12+1.71114506e-11j, -3.22680503e-12-1.71114506e-11j,\n",
       "       -3.28467721e-12+5.13534223e-12j, -3.28467721e-12-5.13534223e-12j,\n",
       "       -3.49911599e-12+2.85896368e-12j, -3.49911599e-12-2.85896368e-12j,\n",
       "       -3.54418282e-12+1.17522952e-11j, -3.54418282e-12-1.17522952e-11j,\n",
       "       -4.32418649e-12+8.92550260e-12j, -4.32418649e-12-8.92550260e-12j,\n",
       "       -4.69343848e-12+1.53419769e-11j, -4.69343848e-12-1.53419769e-11j,\n",
       "       -4.78185729e-12+8.27392786e-12j, -4.78185729e-12-8.27392786e-12j,\n",
       "       -4.94398337e-12+1.13011250e-11j, -4.94398337e-12-1.13011250e-11j,\n",
       "       -5.36619418e-12+6.03363146e-12j, -5.36619418e-12-6.03363146e-12j,\n",
       "       -6.50897919e-12+0.00000000e+00j, -6.68223094e-12+1.97792049e-12j,\n",
       "       -6.68223094e-12-1.97792049e-12j, -6.78913313e-12+9.25462410e-12j,\n",
       "       -6.78913313e-12-9.25462410e-12j, -7.31559679e-12+2.18006516e-12j,\n",
       "       -7.31559679e-12-2.18006516e-12j, -7.42357925e-12+1.36553116e-11j,\n",
       "       -7.42357925e-12-1.36553116e-11j, -7.77358168e-12+6.07952849e-12j,\n",
       "       -7.77358168e-12-6.07952849e-12j, -8.11887136e-12+0.00000000e+00j,\n",
       "       -8.15102241e-12+4.97320407e-12j, -8.15102241e-12-4.97320407e-12j,\n",
       "       -8.78012408e-12+9.17624408e-12j, -8.78012408e-12-9.17624408e-12j,\n",
       "       -9.14871951e-12+7.18368274e-12j, -9.14871951e-12-7.18368274e-12j,\n",
       "       -9.49035149e-12+1.50615566e-12j, -9.49035149e-12-1.50615566e-12j,\n",
       "       -1.00438218e-11+3.11708093e-12j, -1.00438218e-11-3.11708093e-12j,\n",
       "       -1.04249360e-11+1.31926362e-11j, -1.04249360e-11-1.31926362e-11j,\n",
       "       -1.11916161e-11+4.96855761e-12j, -1.11916161e-11-4.96855761e-12j,\n",
       "       -1.13045798e-11+0.00000000e+00j, -1.16880467e-11+5.37168469e-11j,\n",
       "       -1.16880467e-11-5.37168469e-11j, -1.18402364e-11+7.27748603e-13j,\n",
       "       -1.18402364e-11-7.27748603e-13j, -1.25305674e-11+2.30105669e-12j,\n",
       "       -1.25305674e-11-2.30105669e-12j, -1.27900714e-11+8.25957039e-12j,\n",
       "       -1.27900714e-11-8.25957039e-12j, -1.34679360e-11+1.23059121e-11j,\n",
       "       -1.34679360e-11-1.23059121e-11j, -1.40765046e-11+1.81381477e-11j,\n",
       "       -1.40765046e-11-1.81381477e-11j, -1.47798876e-11+5.10439513e-12j,\n",
       "       -1.47798876e-11-5.10439513e-12j, -1.56097418e-11+2.45133601e-12j,\n",
       "       -1.56097418e-11-2.45133601e-12j, -1.57152250e-11+9.96547719e-12j,\n",
       "       -1.57152250e-11-9.96547719e-12j, -1.58114813e-11+6.88311280e-12j,\n",
       "       -1.58114813e-11-6.88311280e-12j, -1.63837839e-11+1.19629736e-12j,\n",
       "       -1.63837839e-11-1.19629736e-12j, -1.69862680e-11+7.89670649e-12j,\n",
       "       -1.69862680e-11-7.89670649e-12j, -1.80806211e-11+2.24238499e-11j,\n",
       "       -1.80806211e-11-2.24238499e-11j, -1.82628636e-11+4.54910163e-12j,\n",
       "       -1.82628636e-11-4.54910163e-12j, -1.91083888e-11+0.00000000e+00j,\n",
       "       -1.97100105e-11+2.96011698e-11j, -1.97100105e-11-2.96011698e-11j,\n",
       "       -2.16307060e-11+2.82755371e-12j, -2.16307060e-11-2.82755371e-12j,\n",
       "       -2.33425241e-11+0.00000000e+00j, -3.48447753e-11+7.30264574e-12j,\n",
       "       -3.48447753e-11-7.30264574e-12j, -4.33971732e-11+1.03624504e-11j,\n",
       "       -4.33971732e-11-1.03624504e-11j, -4.34419730e-11+0.00000000e+00j,\n",
       "       -4.86255707e-11+4.31534029e-11j, -4.86255707e-11-4.31534029e-11j])"
      ]
     },
     "execution_count": 43,
     "metadata": {},
     "output_type": "execute_result"
    }
   ],
   "source": [
    "Eigen_Values2"
   ]
  },
  {
   "cell_type": "markdown",
   "metadata": {},
   "source": [
    "# Sort the Eigen vector According to sorted eigen vector of index"
   ]
  },
  {
   "cell_type": "code",
   "execution_count": 44,
   "metadata": {},
   "outputs": [
    {
     "data": {
      "text/plain": [
       "(214, 214)"
      ]
     },
     "execution_count": 44,
     "metadata": {},
     "output_type": "execute_result"
    }
   ],
   "source": [
    "Eigen_Vectors =  Eig_Vector1[:,index1]\n",
    "Eigen_Vectors.shape"
   ]
  },
  {
   "cell_type": "markdown",
   "metadata": {},
   "source": [
    "# Now I am calculating the Error. "
   ]
  },
  {
   "cell_type": "code",
   "execution_count": 45,
   "metadata": {},
   "outputs": [],
   "source": [
    "Error = []"
   ]
  },
  {
   "cell_type": "code",
   "execution_count": 46,
   "metadata": {},
   "outputs": [],
   "source": [
    "for i in range(10):\n",
    "    col = Eigen_Vectors[:,0:i+1]\n",
    "    Matrix_G = np.asmatrix(col)\n",
    "    Transpose_Matrix_G = np.transpose(Matrix_G)\n",
    "    Transpose_Matrix_G_into_Mat_A = np.matmul(Transpose_Matrix_G,A)\n",
    "    Mean = np.matmul(Matrix_G,Transpose_Matrix_G_into_Mat_A)\n",
    "    Fobinus_norm = np.linalg.norm(A-Mean)\n",
    "    Error.append(Fobinus_norm)"
   ]
  },
  {
   "cell_type": "markdown",
   "metadata": {},
   "source": [
    "# I am ploting the Graph of PCA"
   ]
  },
  {
   "cell_type": "code",
   "execution_count": 47,
   "metadata": {},
   "outputs": [
    {
     "data": {
      "image/png": "[encoded data removed]",
      "text/plain": [
       "<Figure size 432x288 with 1 Axes>"
      ]
     },
     "metadata": {},
     "output_type": "display_data"
    }
   ],
   "source": [
    "plt.bar(range(len(Error)), Error, color=['darkred','pink','red','blue','green','black','yellow'],\n",
    "        label='PCA Max')\n",
    "plt.plot(range(len(Error)),Error,color = 'purple',label= 'PCA High to low')\n",
    "plt.xlabel('Principal components')\n",
    "plt.ylabel('Error')\n",
    "plt.grid()\n",
    "plt.title('PCA Graph')\n",
    "plt.legend(loc='best')\n",
    "plt.show()"
   ]
  },
  {
   "cell_type": "code",
   "execution_count": 48,
   "metadata": {},
   "outputs": [
    {
     "name": "stdout",
     "output_type": "stream",
     "text": [
      "Error are:  [35.12228165431011, 24.40372291345115, 15.792847686248647, 10.392839709186523, 7.353511861559884, 4.809982394533389, 1.3707799077040712, 0.02606168647785817, 2.936233965343776e-09, 2.9344042909742963e-09]\n"
     ]
    }
   ],
   "source": [
    "print(\"Error are: \",Error)"
   ]
  }
 ],
 "metadata": {
  "kernelspec": {
   "display_name": "Python 3",
   "language": "python",
   "name": "python3"
  },
  "language_info": {
   "codemirror_mode": {
    "name": "ipython",
    "version": 3
   },
   "file_extension": ".py",
   "mimetype": "text/x-python",
   "name": "python",
   "nbconvert_exporter": "python",
   "pygments_lexer": "ipython3",
   "version": "3.6.5"
  }
 },
 "nbformat": 4,
 "nbformat_minor": 2
}
